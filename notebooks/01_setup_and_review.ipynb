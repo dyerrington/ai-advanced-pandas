{
 "cells": [
  {
   "cell_type": "markdown",
   "metadata": {},
   "source": [
    "<img src=\"https://snipboard.io/Kx6OAi.jpg\">\n",
    "\n",
    "# Session 1. Advanced Pandas: Configuration and Review\n",
    "<div style=\"margin-top: -20px;\">Author:  David Yerrington</div>\n",
    "\n",
    "## Learning Objectives\n",
    "\n",
    "- Install your Python Environment\n",
    "- Run Jupyter Lab\n",
    "- Reveiw of Pandas\n",
    "\n",
    "### Prerequisite Knowledge\n",
    "- Basic Pandas \n",
    "  - Difference between Series vs Dataframe\n",
    "  - Bitmasks, query function, selecting data\n",
    "  - Aggregations\n",
    "\n",
    "## Environment Setup\n",
    "\n",
    "We will first review some basic points to setup Python and the environment to start in [the setup guide](../environment.md).\n"
   ]
  },
  {
   "cell_type": "markdown",
   "metadata": {},
   "source": [
    "# 1. Introduction\n",
    "\n",
    "The most common problems we face working with data include:\n",
    "- Access\n",
    "- Exploration\n",
    "- Transformation\n",
    "\n",
    "Most problems in the world involve acquiring data in some form, understanding it enough to scope projects, then changing a portion of data in some way to clean, model, or create more datasets!  Pandas is our multi-tool of sorts when it comes to exploring the potential for applications with data.  The faster you can work within Pandas to explore and transform data, the easier it will be to produce most projects.\n",
    "\n",
    "## 1.1 What is \"Advanced\" Pandas?\n",
    "\n",
    "TBD:  Explanation of my experience about what is common working on data science teams and engineering roles.\n",
    "2ndary explanation:  Use cases of advanced pandas\n",
    "\n"
   ]
  },
  {
   "cell_type": "markdown",
   "metadata": {},
   "source": [
    "## 1.2 Use Cases\n",
    "\n",
    "TBD: explanation of these use cases\n",
    "\n",
    "- Working with mobile game data with semi-structured data\n",
    "- Log files\n",
    "- Text analytics \n",
    "- Writing methods using apply and map rather than manual iteration\n"
   ]
  },
  {
   "cell_type": "markdown",
   "metadata": {},
   "source": [
    "# 2. Pandas Review\n",
    "\n",
    "These topics are useful points of review that will will be using going forward but also are foundational points that are important before we go deeper."
   ]
  },
  {
   "cell_type": "markdown",
   "metadata": {},
   "source": [
    "## Load a dataset\n",
    "\n",
    "This is a Pokemon dataset and it's from [Kaggle](https://www.kaggle.com/terminus7/pokemon-challenge).  \n",
    "\n",
    "> Pokemon are creatures that fight each other, in a turn-based RPG game.  Nothing is more practical than Pokemon data."
   ]
  },
  {
   "cell_type": "code",
   "execution_count": 1,
   "metadata": {},
   "outputs": [],
   "source": [
    "import pandas as pd\n",
    "\n",
    "df = pd.read_csv(\"../data/pokemon.csv\", encoding = \"utf8\")"
   ]
  },
  {
   "cell_type": "markdown",
   "metadata": {},
   "source": [
    "## 2.1 Series vs. DataFrame\n",
    "\n",
    "![](https://snipboard.io/8i3yIz.jpg)"
   ]
  },
  {
   "cell_type": "markdown",
   "metadata": {},
   "source": [
    "### Selecting Series:  Row"
   ]
  },
  {
   "cell_type": "code",
   "execution_count": null,
   "metadata": {},
   "outputs": [],
   "source": []
  },
  {
   "cell_type": "markdown",
   "metadata": {},
   "source": [
    "### Selecting Series:  Column"
   ]
  },
  {
   "cell_type": "code",
   "execution_count": null,
   "metadata": {},
   "outputs": [],
   "source": []
  },
  {
   "cell_type": "markdown",
   "metadata": {},
   "source": [
    "### Question: Is the object `df.columns` a series or a DataFrame?\n",
    "Follow up:  How would you find out?"
   ]
  },
  {
   "cell_type": "code",
   "execution_count": null,
   "metadata": {},
   "outputs": [],
   "source": []
  },
  {
   "cell_type": "markdown",
   "metadata": {},
   "source": [
    "## 2.2 `.loc` and `.iloc`\n",
    "### Selecting all rows, all columns\n",
    "\n",
    "> `.iloc` is extremely useful for when you want to programatically access columns when you might not know the names of the columns explicitly.  This is of particular use when writing scripts to automate the process of cleaning data."
   ]
  },
  {
   "cell_type": "code",
   "execution_count": null,
   "metadata": {},
   "outputs": [],
   "source": []
  },
  {
   "cell_type": "markdown",
   "metadata": {},
   "source": [
    "### Selecting all rows, specific columns"
   ]
  },
  {
   "cell_type": "code",
   "execution_count": null,
   "metadata": {},
   "outputs": [],
   "source": []
  },
  {
   "cell_type": "markdown",
   "metadata": {},
   "source": [
    "## 3. Selecting data \n",
    "\n",
    "### With Masks\n",
    "\n",
    "Selection of data in Pandas is performed by passing a series of True/False values which are interpreted as \"show\" or \"hide\" for rows with the same numeric index.\n",
    "\n",
    "Lets see this on a basic dataset that we create first."
   ]
  },
  {
   "cell_type": "code",
   "execution_count": 2,
   "metadata": {},
   "outputs": [
    {
     "data": {
      "text/html": [
       "<div>\n",
       "<style scoped>\n",
       "    .dataframe tbody tr th:only-of-type {\n",
       "        vertical-align: middle;\n",
       "    }\n",
       "\n",
       "    .dataframe tbody tr th {\n",
       "        vertical-align: top;\n",
       "    }\n",
       "\n",
       "    .dataframe thead th {\n",
       "        text-align: right;\n",
       "    }\n",
       "</style>\n",
       "<table border=\"1\" class=\"dataframe\">\n",
       "  <thead>\n",
       "    <tr style=\"text-align: right;\">\n",
       "      <th></th>\n",
       "      <th>animal</th>\n",
       "    </tr>\n",
       "  </thead>\n",
       "  <tbody>\n",
       "    <tr>\n",
       "      <th>0</th>\n",
       "      <td>Cat</td>\n",
       "    </tr>\n",
       "    <tr>\n",
       "      <th>1</th>\n",
       "      <td>Bat</td>\n",
       "    </tr>\n",
       "    <tr>\n",
       "      <th>2</th>\n",
       "      <td>Rat</td>\n",
       "    </tr>\n",
       "    <tr>\n",
       "      <th>3</th>\n",
       "      <td>Wombat</td>\n",
       "    </tr>\n",
       "  </tbody>\n",
       "</table>\n",
       "</div>"
      ],
      "text/plain": [
       "   animal\n",
       "0     Cat\n",
       "1     Bat\n",
       "2     Rat\n",
       "3  Wombat"
      ]
     },
     "execution_count": 2,
     "metadata": {},
     "output_type": "execute_result"
    }
   ],
   "source": [
    "basic_data = [\n",
    "    (\"Cat\"),\n",
    "    (\"Bat\"),\n",
    "    (\"Rat\"),\n",
    "    (\"Wombat\") # this is the best row\n",
    "]\n",
    "basic_df = pd.DataFrame(basic_data, columns = [\"animal\"])\n",
    "basic_df"
   ]
  },
  {
   "cell_type": "code",
   "execution_count": 3,
   "metadata": {},
   "outputs": [],
   "source": [
    "## Selecting only the first row \"cat\"\n",
    "mask = []"
   ]
  },
  {
   "cell_type": "code",
   "execution_count": 4,
   "metadata": {},
   "outputs": [],
   "source": [
    "## Selecting only the second and fouth rows for \"bat\" and \"wombat\"\n",
    "mask = []"
   ]
  },
  {
   "cell_type": "markdown",
   "metadata": {},
   "source": [
    "## This also works with `.loc` and `.iloc`"
   ]
  },
  {
   "cell_type": "code",
   "execution_count": null,
   "metadata": {},
   "outputs": [],
   "source": []
  },
  {
   "cell_type": "markdown",
   "metadata": {},
   "source": [
    "So when we use basic conditional statements with Pandas to select data, they are actually creating a `boolean` series of `True` and `False` values that match the rows they coorespond to for selection."
   ]
  },
  {
   "cell_type": "code",
   "execution_count": null,
   "metadata": {},
   "outputs": [],
   "source": []
  },
  {
   "cell_type": "markdown",
   "metadata": {},
   "source": [
    "## Using `.query()`\n",
    "\n",
    "Query is a useful method in Pandas to quickly select data in a \"sql-like\" manner."
   ]
  },
  {
   "cell_type": "code",
   "execution_count": null,
   "metadata": {},
   "outputs": [],
   "source": []
  },
  {
   "cell_type": "markdown",
   "metadata": {},
   "source": [
    "The `.query` method is great for exploring data but it does have some tradeoffs.\n",
    "\n",
    "\n",
    "- You can refer to column names that contain spaces or operators by surrounding them in backticks. Also columns that begin with digits need to be escaped.\n",
    "- You still need to escape columns that are named as reserved words but sometimes this breaks query I've found. ie: Column named as `class`.\n"
   ]
  },
  {
   "cell_type": "markdown",
   "metadata": {},
   "source": [
    "## 4. `.info()` and Data Types"
   ]
  },
  {
   "cell_type": "markdown",
   "metadata": {},
   "source": [
    "# Summary\n",
    "\n",
    "By now you should have your Jupyter environment setup and running and be familliar with some core Pandas concepts:\n",
    "\n",
    "* `.loc` and `.iloc` select data by row and column.  `.loc` allows you to select columns by name.  `.iloc` provides selection of columns by index which is useful for programatic access.\n",
    "* Data is selected at the row level by boolean series called \"masks\".  Conditional operators create these boolean sequences and control the selection and display of DataFrames.\n",
    "* `.describe()` is a handy function that automatically provides the most common aggregation methods across all numerical values in the dataset.\n",
    "* `.groupby(\"[key column]\")` aggregates data matching the key column parameter into groups of rows matching the same key. "
   ]
  }
 ],
 "metadata": {
  "kernelspec": {
   "display_name": "Python 3",
   "language": "python",
   "name": "python3"
  },
  "language_info": {
   "codemirror_mode": {
    "name": "ipython",
    "version": 3
   },
   "file_extension": ".py",
   "mimetype": "text/x-python",
   "name": "python",
   "nbconvert_exporter": "python",
   "pygments_lexer": "ipython3",
   "version": "3.7.4"
  }
 },
 "nbformat": 4,
 "nbformat_minor": 4
}
