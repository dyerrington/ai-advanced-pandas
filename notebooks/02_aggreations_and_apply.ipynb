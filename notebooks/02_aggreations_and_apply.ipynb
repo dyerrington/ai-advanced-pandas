{
 "cells": [
  {
   "cell_type": "markdown",
   "metadata": {},
   "source": [
    "<img src=\"https://snipboard.io/Kx6OAi.jpg\">\n",
    "\n",
    "# Session 2. Practical Advanced Pandas: Configuration and Review\n",
    "<div style=\"margin-top: -20px;\">Author:  David Yerrington</div>\n",
    "\n",
    "## Learning Objectives\n",
    "\n",
    "- Aggregations Review\n",
    "- Describe the role of axis in aggregations\n",
    "- How to implement `.apply()` methods and their tradeoffs\n",
    "\n",
    "### Prerequisite Knowledge\n",
    "- Basic Pandas \n",
    "  - Difference between Series vs Dataframe\n",
    "  - Bitmasks, query function, selecting data\n",
    "  - Aggregations\n",
    "\n",
    "## Environment Setup\n",
    "\n",
    "Don't forget to setup your Python environment from [the setup guide](../environment.md) if you haven't done so yet.\n"
   ]
  },
  {
   "cell_type": "code",
   "execution_count": 70,
   "metadata": {},
   "outputs": [],
   "source": [
    "import pandas as pd, numpy as np"
   ]
  },
  {
   "cell_type": "markdown",
   "metadata": {},
   "source": [
    "### Load Data"
   ]
  },
  {
   "cell_type": "code",
   "execution_count": 72,
   "metadata": {},
   "outputs": [
    {
     "data": {
      "text/html": [
       "<div>\n",
       "<style scoped>\n",
       "    .dataframe tbody tr th:only-of-type {\n",
       "        vertical-align: middle;\n",
       "    }\n",
       "\n",
       "    .dataframe tbody tr th {\n",
       "        vertical-align: top;\n",
       "    }\n",
       "\n",
       "    .dataframe thead th {\n",
       "        text-align: right;\n",
       "    }\n",
       "</style>\n",
       "<table border=\"1\" class=\"dataframe\">\n",
       "  <thead>\n",
       "    <tr style=\"text-align: right;\">\n",
       "      <th></th>\n",
       "      <th>#</th>\n",
       "      <th>Name</th>\n",
       "      <th>Type 1</th>\n",
       "      <th>Type 2</th>\n",
       "      <th>HP</th>\n",
       "      <th>Attack</th>\n",
       "      <th>Defense</th>\n",
       "      <th>Sp. Atk</th>\n",
       "      <th>Sp. Def</th>\n",
       "      <th>Speed</th>\n",
       "      <th>Generation</th>\n",
       "      <th>Legendary</th>\n",
       "    </tr>\n",
       "  </thead>\n",
       "  <tbody>\n",
       "    <tr>\n",
       "      <th>0</th>\n",
       "      <td>1</td>\n",
       "      <td>Bulbasaur</td>\n",
       "      <td>Grass</td>\n",
       "      <td>Poison</td>\n",
       "      <td>45</td>\n",
       "      <td>49</td>\n",
       "      <td>49</td>\n",
       "      <td>65</td>\n",
       "      <td>65</td>\n",
       "      <td>45</td>\n",
       "      <td>1</td>\n",
       "      <td>False</td>\n",
       "    </tr>\n",
       "    <tr>\n",
       "      <th>1</th>\n",
       "      <td>2</td>\n",
       "      <td>Ivysaur</td>\n",
       "      <td>Grass</td>\n",
       "      <td>Poison</td>\n",
       "      <td>60</td>\n",
       "      <td>62</td>\n",
       "      <td>63</td>\n",
       "      <td>80</td>\n",
       "      <td>80</td>\n",
       "      <td>60</td>\n",
       "      <td>1</td>\n",
       "      <td>False</td>\n",
       "    </tr>\n",
       "    <tr>\n",
       "      <th>2</th>\n",
       "      <td>3</td>\n",
       "      <td>Venusaur</td>\n",
       "      <td>Grass</td>\n",
       "      <td>Poison</td>\n",
       "      <td>80</td>\n",
       "      <td>82</td>\n",
       "      <td>83</td>\n",
       "      <td>100</td>\n",
       "      <td>100</td>\n",
       "      <td>80</td>\n",
       "      <td>1</td>\n",
       "      <td>False</td>\n",
       "    </tr>\n",
       "    <tr>\n",
       "      <th>3</th>\n",
       "      <td>4</td>\n",
       "      <td>Mega Venusaur</td>\n",
       "      <td>Grass</td>\n",
       "      <td>Poison</td>\n",
       "      <td>80</td>\n",
       "      <td>100</td>\n",
       "      <td>123</td>\n",
       "      <td>122</td>\n",
       "      <td>120</td>\n",
       "      <td>80</td>\n",
       "      <td>1</td>\n",
       "      <td>False</td>\n",
       "    </tr>\n",
       "    <tr>\n",
       "      <th>4</th>\n",
       "      <td>5</td>\n",
       "      <td>Charmander</td>\n",
       "      <td>Fire</td>\n",
       "      <td>NaN</td>\n",
       "      <td>39</td>\n",
       "      <td>52</td>\n",
       "      <td>43</td>\n",
       "      <td>60</td>\n",
       "      <td>50</td>\n",
       "      <td>65</td>\n",
       "      <td>1</td>\n",
       "      <td>False</td>\n",
       "    </tr>\n",
       "  </tbody>\n",
       "</table>\n",
       "</div>"
      ],
      "text/plain": [
       "   #           Name Type 1  Type 2  HP  Attack  Defense  Sp. Atk  Sp. Def  \\\n",
       "0  1      Bulbasaur  Grass  Poison  45      49       49       65       65   \n",
       "1  2        Ivysaur  Grass  Poison  60      62       63       80       80   \n",
       "2  3       Venusaur  Grass  Poison  80      82       83      100      100   \n",
       "3  4  Mega Venusaur  Grass  Poison  80     100      123      122      120   \n",
       "4  5     Charmander   Fire     NaN  39      52       43       60       50   \n",
       "\n",
       "   Speed  Generation  Legendary  \n",
       "0     45           1      False  \n",
       "1     60           1      False  \n",
       "2     80           1      False  \n",
       "3     80           1      False  \n",
       "4     65           1      False  "
      ]
     },
     "execution_count": 72,
     "metadata": {},
     "output_type": "execute_result"
    }
   ],
   "source": [
    "df = pd.read_csv(\"../data/pokemon.csv\", encoding = \"utf8\")\n",
    "df.head()"
   ]
  },
  {
   "cell_type": "markdown",
   "metadata": {},
   "source": [
    "## 1. Aggregations\n",
    "\n",
    "Aggregations are the bread and butter of Pandas.  Aggregations provide us the most common type of data transformation that we'll encounter in the wild.  Using these types of functions helps us understand data primarily through summarization."
   ]
  },
  {
   "cell_type": "markdown",
   "metadata": {},
   "source": [
    "### Measures of central tendency\n",
    "![](https://snipboard.io/KOHx1p.jpg)"
   ]
  },
  {
   "cell_type": "markdown",
   "metadata": {},
   "source": [
    "The most useful function in Pandas when first exploring data is the summary function which combines the most common measures of central tendency all-in-one."
   ]
  },
  {
   "cell_type": "code",
   "execution_count": null,
   "metadata": {},
   "outputs": [],
   "source": []
  },
  {
   "cell_type": "markdown",
   "metadata": {},
   "source": [
    "### Common Built-in Methods"
   ]
  },
  {
   "cell_type": "markdown",
   "metadata": {},
   "source": [
    "### Mean"
   ]
  },
  {
   "cell_type": "code",
   "execution_count": null,
   "metadata": {},
   "outputs": [],
   "source": []
  },
  {
   "cell_type": "markdown",
   "metadata": {},
   "source": [
    "### Median"
   ]
  },
  {
   "cell_type": "code",
   "execution_count": null,
   "metadata": {},
   "outputs": [],
   "source": []
  },
  {
   "cell_type": "markdown",
   "metadata": {},
   "source": [
    "### Sum"
   ]
  },
  {
   "cell_type": "code",
   "execution_count": null,
   "metadata": {},
   "outputs": [],
   "source": []
  },
  {
   "cell_type": "markdown",
   "metadata": {},
   "source": [
    "## `groupby`\n",
    "\n",
    "A \"group by\" operation works much the same way as it would in a SQL environment.  We answer questions like \"Find the number of people in each city\" or \"How many online orders did we have each day of the month.\"\n",
    "\n",
    "The way `.groupby` works in Pandas is by grouping identical values and performing an operation on coorepsonding data within the same group.\n"
   ]
  },
  {
   "cell_type": "code",
   "execution_count": 79,
   "metadata": {},
   "outputs": [
    {
     "data": {
      "text/html": [
       "<div>\n",
       "<style scoped>\n",
       "    .dataframe tbody tr th:only-of-type {\n",
       "        vertical-align: middle;\n",
       "    }\n",
       "\n",
       "    .dataframe tbody tr th {\n",
       "        vertical-align: top;\n",
       "    }\n",
       "\n",
       "    .dataframe thead th {\n",
       "        text-align: right;\n",
       "    }\n",
       "</style>\n",
       "<table border=\"1\" class=\"dataframe\">\n",
       "  <thead>\n",
       "    <tr style=\"text-align: right;\">\n",
       "      <th></th>\n",
       "      <th>key</th>\n",
       "      <th>value</th>\n",
       "    </tr>\n",
       "  </thead>\n",
       "  <tbody>\n",
       "    <tr>\n",
       "      <th>0</th>\n",
       "      <td>A</td>\n",
       "      <td>65</td>\n",
       "    </tr>\n",
       "    <tr>\n",
       "      <th>1</th>\n",
       "      <td>A</td>\n",
       "      <td>55</td>\n",
       "    </tr>\n",
       "    <tr>\n",
       "      <th>2</th>\n",
       "      <td>A</td>\n",
       "      <td>35</td>\n",
       "    </tr>\n",
       "    <tr>\n",
       "      <th>3</th>\n",
       "      <td>B</td>\n",
       "      <td>250</td>\n",
       "    </tr>\n",
       "    <tr>\n",
       "      <th>4</th>\n",
       "      <td>B</td>\n",
       "      <td>650</td>\n",
       "    </tr>\n",
       "    <tr>\n",
       "      <th>5</th>\n",
       "      <td>B</td>\n",
       "      <td>323</td>\n",
       "    </tr>\n",
       "    <tr>\n",
       "      <th>6</th>\n",
       "      <td>C</td>\n",
       "      <td>1500</td>\n",
       "    </tr>\n",
       "    <tr>\n",
       "      <th>7</th>\n",
       "      <td>C</td>\n",
       "      <td>2345</td>\n",
       "    </tr>\n",
       "    <tr>\n",
       "      <th>8</th>\n",
       "      <td>C</td>\n",
       "      <td>3333</td>\n",
       "    </tr>\n",
       "  </tbody>\n",
       "</table>\n",
       "</div>"
      ],
      "text/plain": [
       "  key  value\n",
       "0   A     65\n",
       "1   A     55\n",
       "2   A     35\n",
       "3   B    250\n",
       "4   B    650\n",
       "5   B    323\n",
       "6   C   1500\n",
       "7   C   2345\n",
       "8   C   3333"
      ]
     },
     "execution_count": 79,
     "metadata": {},
     "output_type": "execute_result"
    }
   ],
   "source": [
    "data = [\n",
    "    dict(key = \"A\", value = 65),\n",
    "    dict(key = \"A\", value = 55),\n",
    "    dict(key = \"A\", value = 35),\n",
    "    dict(key = \"B\", value = 250),\n",
    "    dict(key = \"B\", value = 650),\n",
    "    dict(key = \"B\", value = 323),\n",
    "    dict(key = \"C\", value = 1500),\n",
    "    dict(key = \"C\", value = 2345),\n",
    "    dict(key = \"C\", value = 3333),\n",
    "]\n",
    "## Create dataframe here\n",
    "new_df = pd.DataFrame(data)\n",
    "new_df"
   ]
  },
  {
   "cell_type": "markdown",
   "metadata": {},
   "source": [
    "## Groupby `key`\n",
    "\n",
    "Using the column `key` as the criteria for grouping, Pandas will separate each value in the `key` to groups matching the same value.  For example, all \"A\" records are considered a group and same for \"B\" and \"C\".  Each group has 3 records in it.\n",
    "\n",
    "Any aggregation is then performed on each group separately, then combined to a single value representing each group."
   ]
  },
  {
   "cell_type": "code",
   "execution_count": 81,
   "metadata": {},
   "outputs": [
    {
     "data": {
      "text/html": [
       "<div>\n",
       "<style scoped>\n",
       "    .dataframe tbody tr th:only-of-type {\n",
       "        vertical-align: middle;\n",
       "    }\n",
       "\n",
       "    .dataframe tbody tr th {\n",
       "        vertical-align: top;\n",
       "    }\n",
       "\n",
       "    .dataframe thead th {\n",
       "        text-align: right;\n",
       "    }\n",
       "</style>\n",
       "<table border=\"1\" class=\"dataframe\">\n",
       "  <thead>\n",
       "    <tr style=\"text-align: right;\">\n",
       "      <th></th>\n",
       "      <th>value</th>\n",
       "    </tr>\n",
       "    <tr>\n",
       "      <th>key</th>\n",
       "      <th></th>\n",
       "    </tr>\n",
       "  </thead>\n",
       "  <tbody>\n",
       "    <tr>\n",
       "      <th>A</th>\n",
       "      <td>51.666667</td>\n",
       "    </tr>\n",
       "    <tr>\n",
       "      <th>B</th>\n",
       "      <td>407.666667</td>\n",
       "    </tr>\n",
       "    <tr>\n",
       "      <th>C</th>\n",
       "      <td>2392.666667</td>\n",
       "    </tr>\n",
       "  </tbody>\n",
       "</table>\n",
       "</div>"
      ],
      "text/plain": [
       "           value\n",
       "key             \n",
       "A      51.666667\n",
       "B     407.666667\n",
       "C    2392.666667"
      ]
     },
     "execution_count": 81,
     "metadata": {},
     "output_type": "execute_result"
    }
   ],
   "source": [
    "new_df.groupby(\"key\").mean()"
   ]
  },
  {
   "cell_type": "markdown",
   "metadata": {},
   "source": [
    "We get 51.66667 for group \"A\" because the values in this group are `65`, `55`, and `35` and when we calculate the mean of these group values, we get `51.666667`.  The same calculation, `.mean()`, is performed across the other groups as well."
   ]
  },
  {
   "cell_type": "markdown",
   "metadata": {},
   "source": [
    "### Applying Multiple Aggregations\n",
    "\n",
    "You can also use numpy to provide additional aggregations (you can also write your own!)."
   ]
  },
  {
   "cell_type": "code",
   "execution_count": null,
   "metadata": {},
   "outputs": [],
   "source": []
  },
  {
   "cell_type": "markdown",
   "metadata": {},
   "source": [
    "## 2. Role of `axis` in Aggreations\n",
    "\n",
    "As we approach building our own `.apply()` functions, it's helpful to understand how axis is used to control the flow of data to aggregation methods.\n",
    "\n",
    "![](https://snipboard.io/8i3yIz.jpg)"
   ]
  },
  {
   "cell_type": "markdown",
   "metadata": {},
   "source": [
    "## Another Simple Dataset"
   ]
  },
  {
   "cell_type": "code",
   "execution_count": 85,
   "metadata": {},
   "outputs": [
    {
     "data": {
      "text/html": [
       "<div>\n",
       "<style scoped>\n",
       "    .dataframe tbody tr th:only-of-type {\n",
       "        vertical-align: middle;\n",
       "    }\n",
       "\n",
       "    .dataframe tbody tr th {\n",
       "        vertical-align: top;\n",
       "    }\n",
       "\n",
       "    .dataframe thead th {\n",
       "        text-align: right;\n",
       "    }\n",
       "</style>\n",
       "<table border=\"1\" class=\"dataframe\">\n",
       "  <thead>\n",
       "    <tr style=\"text-align: right;\">\n",
       "      <th></th>\n",
       "      <th>animal</th>\n",
       "      <th>width</th>\n",
       "      <th>height</th>\n",
       "      <th>depth</th>\n",
       "      <th>volume</th>\n",
       "    </tr>\n",
       "  </thead>\n",
       "  <tbody>\n",
       "    <tr>\n",
       "      <th>0</th>\n",
       "      <td>cat</td>\n",
       "      <td>5.0</td>\n",
       "      <td>10.00</td>\n",
       "      <td>22.0</td>\n",
       "      <td>0</td>\n",
       "    </tr>\n",
       "    <tr>\n",
       "      <th>1</th>\n",
       "      <td>cat</td>\n",
       "      <td>3.0</td>\n",
       "      <td>8.00</td>\n",
       "      <td>17.0</td>\n",
       "      <td>0</td>\n",
       "    </tr>\n",
       "    <tr>\n",
       "      <th>2</th>\n",
       "      <td>rat</td>\n",
       "      <td>2.0</td>\n",
       "      <td>1.00</td>\n",
       "      <td>3.0</td>\n",
       "      <td>0</td>\n",
       "    </tr>\n",
       "    <tr>\n",
       "      <th>3</th>\n",
       "      <td>rat</td>\n",
       "      <td>3.0</td>\n",
       "      <td>1.20</td>\n",
       "      <td>3.5</td>\n",
       "      <td>0</td>\n",
       "    </tr>\n",
       "    <tr>\n",
       "      <th>4</th>\n",
       "      <td>bat</td>\n",
       "      <td>2.0</td>\n",
       "      <td>2.12</td>\n",
       "      <td>4.0</td>\n",
       "      <td>0</td>\n",
       "    </tr>\n",
       "    <tr>\n",
       "      <th>5</th>\n",
       "      <td>bat</td>\n",
       "      <td>3.0</td>\n",
       "      <td>3.12</td>\n",
       "      <td>4.1</td>\n",
       "      <td>0</td>\n",
       "    </tr>\n",
       "    <tr>\n",
       "      <th>6</th>\n",
       "      <td>bat</td>\n",
       "      <td>1.9</td>\n",
       "      <td>2.80</td>\n",
       "      <td>3.8</td>\n",
       "      <td>0</td>\n",
       "    </tr>\n",
       "    <tr>\n",
       "      <th>7</th>\n",
       "      <td>wombat</td>\n",
       "      <td>7.0</td>\n",
       "      <td>6.00</td>\n",
       "      <td>26.0</td>\n",
       "      <td>0</td>\n",
       "    </tr>\n",
       "    <tr>\n",
       "      <th>8</th>\n",
       "      <td>wombat</td>\n",
       "      <td>8.0</td>\n",
       "      <td>7.10</td>\n",
       "      <td>28.0</td>\n",
       "      <td>0</td>\n",
       "    </tr>\n",
       "    <tr>\n",
       "      <th>9</th>\n",
       "      <td>wombat</td>\n",
       "      <td>5.0</td>\n",
       "      <td>5.00</td>\n",
       "      <td>22.0</td>\n",
       "      <td>0</td>\n",
       "    </tr>\n",
       "  </tbody>\n",
       "</table>\n",
       "</div>"
      ],
      "text/plain": [
       "   animal  width  height  depth  volume\n",
       "0     cat    5.0   10.00   22.0       0\n",
       "1     cat    3.0    8.00   17.0       0\n",
       "2     rat    2.0    1.00    3.0       0\n",
       "3     rat    3.0    1.20    3.5       0\n",
       "4     bat    2.0    2.12    4.0       0\n",
       "5     bat    3.0    3.12    4.1       0\n",
       "6     bat    1.9    2.80    3.8       0\n",
       "7  wombat    7.0    6.00   26.0       0\n",
       "8  wombat    8.0    7.10   28.0       0\n",
       "9  wombat    5.0    5.00   22.0       0"
      ]
     },
     "execution_count": 85,
     "metadata": {},
     "output_type": "execute_result"
    }
   ],
   "source": [
    "data = [\n",
    "    dict(animal = \"cat\", width = 5, height = 10, depth = 22, volume = 0),\n",
    "    dict(animal = \"cat\", width = 3, height = 8, depth = 17, volume = 0),\n",
    "    dict(animal = \"rat\", width = 2, height = 1, depth = 3, volume = 0),\n",
    "    dict(animal = \"rat\", width = 3, height = 1.2, depth = 3.5, volume = 0),\n",
    "    dict(animal = \"bat\", width = 2, height = 2.12, depth = 4, volume = 0),\n",
    "    dict(animal = \"bat\", width = 3, height = 3.12, depth = 4.1, volume = 0),\n",
    "    dict(animal = \"bat\", width = 1.9, height = 2.8, depth = 3.8, volume = 0),\n",
    "    dict(animal = \"wombat\", width = 7, height = 6, depth = 26, volume = 0),\n",
    "    dict(animal = \"wombat\", width = 8, height = 7.1, depth = 28, volume = 0),\n",
    "    dict(animal = \"wombat\", width = 5, height = 5, depth = 22, volume = 0),\n",
    "]\n",
    "\n",
    "## Create dataframe here\n",
    "animals = pd.DataFrame(data)\n",
    "animals"
   ]
  },
  {
   "cell_type": "markdown",
   "metadata": {},
   "source": [
    "### Question:  What do you think would happen if we used `axis = 1` rather than `axis = 0` in aggregations based on `df.mean(axis=n)`?\n",
    "\n",
    "> `axis = 0` is the default with Pandas aggregate functions."
   ]
  },
  {
   "cell_type": "code",
   "execution_count": null,
   "metadata": {},
   "outputs": [],
   "source": []
  },
  {
   "cell_type": "markdown",
   "metadata": {},
   "source": [
    "## 3. `.apply()`\n",
    "\n",
    "Sometimes we want to write our own transformations in Pandas because we either don't know how to do something in Pandas or it's built-in methods are not enough to produce what we want.  What's common with newcombers to Pandas is they want to do something custom and start searching for how to iterate over the rows of a DataFrame like it's some Python `list` or `dict`.  \n",
    "\n",
    "It's definitely possible to write your own methods this way, it's really not using Pandas to its full potential.  As the size of datasets grow in size, efficiency suffers.\n",
    "\n",
    "### Create a new column called \"volume\"\n",
    "\n",
    "Let's pretend that our animals are perfectly rectagular in nature.  We want to eningeer a new feature that calculates the volume of each animal by row.\n",
    "\n",
    "## $V=LWH$\n",
    "\n",
    "### Wrong Way:  Iterate over every row. "
   ]
  },
  {
   "cell_type": "code",
   "execution_count": 7,
   "metadata": {},
   "outputs": [],
   "source": [
    "# Lets increase the size of the data first using sampling!"
   ]
  },
  {
   "cell_type": "code",
   "execution_count": null,
   "metadata": {},
   "outputs": [],
   "source": []
  },
  {
   "cell_type": "code",
   "execution_count": null,
   "metadata": {},
   "outputs": [],
   "source": []
  },
  {
   "cell_type": "markdown",
   "metadata": {},
   "source": [
    "## The Right Way:  `.apply([function])`\n",
    "\n",
    "Now only can we do this in one line using a Lambda function.  This will be slower than writing an iterator, but saves a lot of code and can be easier to copy/paste if it's just a single line.\n",
    "\n",
    "> **This lambda function:**\n",
    ">\n",
    "> ```python\n",
    "> lambda row: row['depth'] * row['width'] * row['height']\n",
    "> ```\n",
    ">\n",
    "> <br>\n",
    ">\n",
    "> **Is roughly equivalent to:**\n",
    ">\n",
    "> ```python\n",
    "> def my_func(row):\n",
    ">     return row['depth'] * row['width'] * row['height']\n",
    "> ```"
   ]
  },
  {
   "cell_type": "code",
   "execution_count": null,
   "metadata": {},
   "outputs": [],
   "source": []
  },
  {
   "cell_type": "markdown",
   "metadata": {},
   "source": [
    "### An aside: For pure speed, operate directly on the colum series."
   ]
  },
  {
   "cell_type": "code",
   "execution_count": null,
   "metadata": {},
   "outputs": [],
   "source": [
    "%%timeit\n",
    "\n",
    "sampled_animals['volume'] = sampled_animals['depth'] * sampled_animals['width'] * sampled_animals['depth']"
   ]
  },
  {
   "cell_type": "markdown",
   "metadata": {},
   "source": [
    "### Question:  If we `.apply` a function to our dataset by columns, instead of rows, what do you expect the data to look like as the input to the function?"
   ]
  },
  {
   "cell_type": "code",
   "execution_count": null,
   "metadata": {},
   "outputs": [],
   "source": []
  },
  {
   "cell_type": "markdown",
   "metadata": {},
   "source": [
    "## Apply by column (axis = 0)\n",
    "\n",
    "By default, `.apply()` methods work based on columns so it's no necessary to specify `axis=0`.  In this space, we will build a basic method that standardizes the input of our data but also examine exactly what the data looks like before and after as it enters the function.\n",
    "\n",
    "Let's check the dataset again before continuing.\n"
   ]
  },
  {
   "cell_type": "code",
   "execution_count": 115,
   "metadata": {},
   "outputs": [
    {
     "data": {
      "text/html": [
       "<div>\n",
       "<style scoped>\n",
       "    .dataframe tbody tr th:only-of-type {\n",
       "        vertical-align: middle;\n",
       "    }\n",
       "\n",
       "    .dataframe tbody tr th {\n",
       "        vertical-align: top;\n",
       "    }\n",
       "\n",
       "    .dataframe thead th {\n",
       "        text-align: right;\n",
       "    }\n",
       "</style>\n",
       "<table border=\"1\" class=\"dataframe\">\n",
       "  <thead>\n",
       "    <tr style=\"text-align: right;\">\n",
       "      <th></th>\n",
       "      <th>animal</th>\n",
       "      <th>width</th>\n",
       "      <th>height</th>\n",
       "      <th>depth</th>\n",
       "      <th>volume</th>\n",
       "    </tr>\n",
       "  </thead>\n",
       "  <tbody>\n",
       "    <tr>\n",
       "      <th>0</th>\n",
       "      <td>cat</td>\n",
       "      <td>5.0</td>\n",
       "      <td>10.00</td>\n",
       "      <td>22.0</td>\n",
       "      <td>0</td>\n",
       "    </tr>\n",
       "    <tr>\n",
       "      <th>1</th>\n",
       "      <td>cat</td>\n",
       "      <td>3.0</td>\n",
       "      <td>8.00</td>\n",
       "      <td>17.0</td>\n",
       "      <td>0</td>\n",
       "    </tr>\n",
       "    <tr>\n",
       "      <th>2</th>\n",
       "      <td>rat</td>\n",
       "      <td>2.0</td>\n",
       "      <td>1.00</td>\n",
       "      <td>3.0</td>\n",
       "      <td>0</td>\n",
       "    </tr>\n",
       "    <tr>\n",
       "      <th>3</th>\n",
       "      <td>rat</td>\n",
       "      <td>3.0</td>\n",
       "      <td>1.20</td>\n",
       "      <td>3.5</td>\n",
       "      <td>0</td>\n",
       "    </tr>\n",
       "    <tr>\n",
       "      <th>4</th>\n",
       "      <td>bat</td>\n",
       "      <td>2.0</td>\n",
       "      <td>2.12</td>\n",
       "      <td>4.0</td>\n",
       "      <td>0</td>\n",
       "    </tr>\n",
       "    <tr>\n",
       "      <th>5</th>\n",
       "      <td>bat</td>\n",
       "      <td>3.0</td>\n",
       "      <td>3.12</td>\n",
       "      <td>4.1</td>\n",
       "      <td>0</td>\n",
       "    </tr>\n",
       "    <tr>\n",
       "      <th>6</th>\n",
       "      <td>bat</td>\n",
       "      <td>1.9</td>\n",
       "      <td>2.80</td>\n",
       "      <td>3.8</td>\n",
       "      <td>0</td>\n",
       "    </tr>\n",
       "    <tr>\n",
       "      <th>7</th>\n",
       "      <td>wombat</td>\n",
       "      <td>7.0</td>\n",
       "      <td>6.00</td>\n",
       "      <td>26.0</td>\n",
       "      <td>0</td>\n",
       "    </tr>\n",
       "    <tr>\n",
       "      <th>8</th>\n",
       "      <td>wombat</td>\n",
       "      <td>8.0</td>\n",
       "      <td>7.10</td>\n",
       "      <td>28.0</td>\n",
       "      <td>0</td>\n",
       "    </tr>\n",
       "    <tr>\n",
       "      <th>9</th>\n",
       "      <td>wombat</td>\n",
       "      <td>5.0</td>\n",
       "      <td>5.00</td>\n",
       "      <td>22.0</td>\n",
       "      <td>0</td>\n",
       "    </tr>\n",
       "  </tbody>\n",
       "</table>\n",
       "</div>"
      ],
      "text/plain": [
       "   animal  width  height  depth  volume\n",
       "0     cat    5.0   10.00   22.0       0\n",
       "1     cat    3.0    8.00   17.0       0\n",
       "2     rat    2.0    1.00    3.0       0\n",
       "3     rat    3.0    1.20    3.5       0\n",
       "4     bat    2.0    2.12    4.0       0\n",
       "5     bat    3.0    3.12    4.1       0\n",
       "6     bat    1.9    2.80    3.8       0\n",
       "7  wombat    7.0    6.00   26.0       0\n",
       "8  wombat    8.0    7.10   28.0       0\n",
       "9  wombat    5.0    5.00   22.0       0"
      ]
     },
     "execution_count": 115,
     "metadata": {},
     "output_type": "execute_result"
    }
   ],
   "source": [
    "## check animals DataFrame\n",
    "animals"
   ]
  },
  {
   "cell_type": "markdown",
   "metadata": {},
   "source": [
    "## Applying a Standard Scale Function\n",
    "\n",
    "Standard scaling a set of column values is a fairly common and easy task for any machine learning library in Python.  To illustrate the utility of `.apply([method])` we will recreate this common statistical concept:\n",
    "\n",
    "# $z = \\frac{x - \\bar{x}}{\\sigma}$"
   ]
  },
  {
   "cell_type": "code",
   "execution_count": null,
   "metadata": {},
   "outputs": [],
   "source": [
    "# Write the standard scale function\n",
    "# Apply it to the\n",
    "# Examine input data\n",
    "def standard_scale(col):\n",
    "    return col # update return method\n",
    "\n",
    "animals[['width', 'height', 'depth']].apply(standard_scale)"
   ]
  },
  {
   "cell_type": "markdown",
   "metadata": {},
   "source": [
    "### Other Useful Transformation Methods\n",
    "\n",
    "### `.applymap`\n",
    "\n",
    "Applymap works just like apply except that it's input context is every single value rather than the entire column or row series.  \n",
    "\n",
    "### `.agg([list of methods])`\n",
    "\n",
    "Agg, like apply, allows you to contextualize aggregations using built-in, numpy, or user defined methods.  The output of `.agg()` are the aggregations performed accross multiple columns or rows depending on the axis specified.\n",
    "\n",
    "> You can also specifify a dictionary with keys matching the columns, and specific methods that they match to:\n",
    "> `df.agg({'col1': [np.min, np.max], 'col2': [np.sum], ...})`\n",
    "\n",
    "**An example:**"
   ]
  },
  {
   "cell_type": "code",
   "execution_count": 7,
   "metadata": {},
   "outputs": [],
   "source": [
    "animals[['height', 'width']]"
   ]
  },
  {
   "cell_type": "markdown",
   "metadata": {},
   "source": [
    "## Summary\n",
    "\n",
    "We use aggregations and transformations in Pandas regularly.  Most transformation problems involve data cleaning, feature engineering, metrics, or even summarization.  As data projects demand data in different formats for machine learning, analysis, or online processing of some kind, it's important to know how to effectively work with Pandas to get the most out of it.\n",
    "\n",
    "### 1.  Use `.apply()` rather than `for row in dataframe.values:`\n",
    "\n",
    "Most of Pandas uses Numpy data types which are highly optimized for array operations.  Numpy arrays are densely packed arrays of a homogeneous type. Compared to Python lists, each element has a pointer reference to a different object.  This is generally benefitial due to ideals of [locality of reference](https://en.wikipedia.org/wiki/Locality_of_reference).\n",
    "\n",
    "Not only is it faster to use Pandas built-ins, calculating new features by column series automatically increases your performance by an order of 5-100x.  Almost anything you do with `apply()` will be slower than regular Python.\n",
    "\n",
    "\n",
    "> **Fun Fact**\n",
    "> The smallest possible space for an element to take up in a Python list is 16 bytes.  4 bytes minimum for the value, 4 for the reference in memory, 4 for the type, rounded up by the memory allocator would be 16 bytes.  For Numpy, each element is the exact same so there's no need to style type since it's container is designed to hold every single value of the same type.  Right off the bat, we get rid of 4 bytes to store type information for each element.  To store single precision values is only 4 bytes per element while double precision values are 8 bytes.  At the end of the day you are storing less data about your data with Numpy vs regular python lists.  Lists are designed to be general purpose while Numpy arrays are designed to handle numeric data efficiently.\n",
    "\n",
    "> Whenever possible, don't repeat yourself!  Use a built-in function provided by Pandas or Numpy to transform your data rather than writing it from scratch!  It will almost be faster to use built-ins depending on the problem and size of your data.\n",
    "\n",
    "### 2. `.apply()` works with either axis: Columns or rows.\n",
    "\n",
    "We now understand why `.apply` is superior to operating on your data with lists and \"for loops.\"  Apply can take any function, user defined, built-in, or functions provided by other library such as Numpy and scipy.  \n",
    "\n",
    "When `axis=1`, the input to your apply function is a single row series.  This is useful for when you need to operate on values at the row level such as multiplying or adding to values together, extracting the time or date from one column and creating a new column with the extracted value, or engineering new features with combined row values.\n",
    "\n",
    "When `axis=0` or not specified because it's the default, the input to your apply function will be the **entire** column series.  So if your DataFrame has 100 rows it, the apply function's input will be a column series with the length of 100.  Apply functions operate each column in order that they exist in the DataFrame they are applied to.  However, it's not possible to get other columns in context.  If you need to use data from other columns to derive the value of your function, use row axis `axis=1` instead."
   ]
  },
  {
   "cell_type": "code",
   "execution_count": null,
   "metadata": {},
   "outputs": [],
   "source": []
  }
 ],
 "metadata": {
  "kernelspec": {
   "display_name": "Python 3",
   "language": "python",
   "name": "python3"
  },
  "language_info": {
   "codemirror_mode": {
    "name": "ipython",
    "version": 3
   },
   "file_extension": ".py",
   "mimetype": "text/x-python",
   "name": "python",
   "nbconvert_exporter": "python",
   "pygments_lexer": "ipython3",
   "version": "3.7.4"
  }
 },
 "nbformat": 4,
 "nbformat_minor": 4
}
