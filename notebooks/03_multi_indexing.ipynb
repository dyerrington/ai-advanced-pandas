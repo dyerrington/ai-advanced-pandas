{
 "cells": [
  {
   "cell_type": "markdown",
   "metadata": {},
   "source": [
    "<img src=\"https://snipboard.io/Kx6OAi.jpg\">\n",
    "\n",
    "# Session 3. Advanced Pandas: Multi-indexing\n",
    "<div style=\"margin-top: -20px;\">Author:  David Yerrington</div>\n",
    "\n",
    "## Learning Objectives\n",
    "\n",
    "- Define what a multi-indexing is\n",
    "- Describe common methods for accessing data by multiple indices\n",
    "\n",
    "### Prerequisite Knowledge\n",
    "- Basic Pandas \n",
    "  - Difference between Series vs Dataframe\n",
    "  - Bitmasks, query function, selecting data\n",
    "  - Aggregations\n",
    "\n",
    "## Environment Setup\n",
    "\n",
    "Don't forget to setup your Python environment from [the setup guide](../environment.md) if you haven't done so yet.\n"
   ]
  },
  {
   "cell_type": "code",
   "execution_count": 5,
   "metadata": {},
   "outputs": [],
   "source": [
    "import pandas as pd, numpy as np"
   ]
  },
  {
   "cell_type": "markdown",
   "metadata": {},
   "source": [
    "## Load some Pokemon data"
   ]
  },
  {
   "cell_type": "code",
   "execution_count": 6,
   "metadata": {},
   "outputs": [],
   "source": [
    "pokemon = pd.read_csv(\"../data/pokemon.csv\", encoding = \"utf8\")"
   ]
  },
  {
   "cell_type": "markdown",
   "metadata": {},
   "source": [
    "## 1. Let's Create a DataFrame with a Multi-Index\n",
    "\n",
    "A lot of what working with a multi-index is about dealing with them as a result of many Pandas transformations such as `.groupby` and `.agg`.  Let's look at one."
   ]
  },
  {
   "cell_type": "code",
   "execution_count": 10,
   "metadata": {},
   "outputs": [],
   "source": [
    "poketypes = pokemon.groupby([\"Type 1\", \"Type 2\"]).mean()"
   ]
  },
  {
   "cell_type": "code",
   "execution_count": null,
   "metadata": {},
   "outputs": [],
   "source": []
  },
  {
   "cell_type": "markdown",
   "metadata": {},
   "source": [
    "## 2. What is a Multi-Index\n",
    "\n",
    "One of the most common forms of multi-indexes is the result of a `.groupby` with more than one group criteria.  In this grouped result, all pokemon are grouped by their primary types first, then by their secondary types before aggregations.  In this case we used `.mean` to aggregate the resulting subsets by this criteria.\n",
    "\n",
    "For example:\n",
    "- There are 69 Pokemon in the first \"bug\" subset\n",
    "- Of the 69 bug pokemon, only 2 are \"electric\" type\n",
    "- The input of our mean function are the values are 50 and 70.  The mean of those values are 60.\n",
    "\n",
    "The same logic applies to the rest of the dataset but when we look at the multi-index on the left side of the dataframe, it describes the relationship but also literally the results from aggregation.\n",
    "\n",
    "**We could flatten the index pushing it's values into the row space as an option:**"
   ]
  },
  {
   "cell_type": "code",
   "execution_count": null,
   "metadata": {},
   "outputs": [],
   "source": []
  },
  {
   "cell_type": "markdown",
   "metadata": {},
   "source": [
    "**But... we should really learn to work with multi-indexing at the row level!**\n",
    "- It's descriptive\n",
    "- Allows easy selection of data\n",
    "- Gain flexibility with new methods to work with our data\n",
    "\n",
    "## Various Accessors\n",
    "\n",
    "**`.index`**"
   ]
  },
  {
   "cell_type": "code",
   "execution_count": null,
   "metadata": {},
   "outputs": [],
   "source": []
  },
  {
   "cell_type": "markdown",
   "metadata": {},
   "source": [
    "### `.loc[row:columns]`\n",
    "\n",
    "Remember, that `.loc` takes as its first indexer as row reference.  With multi-indexes, `.loc` behaves a little differently.\n",
    "\n",
    "`.loc[([primary/first subset name])]`"
   ]
  },
  {
   "cell_type": "code",
   "execution_count": null,
   "metadata": {},
   "outputs": [],
   "source": []
  },
  {
   "cell_type": "markdown",
   "metadata": {},
   "source": [
    "`.loc[([1st subset name, 2nd subsetname])]`"
   ]
  },
  {
   "cell_type": "code",
   "execution_count": null,
   "metadata": {},
   "outputs": [],
   "source": []
  },
  {
   "cell_type": "markdown",
   "metadata": {},
   "source": [
    "### All secondary types that exist, regarless of their primary group designation"
   ]
  },
  {
   "cell_type": "code",
   "execution_count": null,
   "metadata": {},
   "outputs": [],
   "source": []
  },
  {
   "cell_type": "markdown",
   "metadata": {},
   "source": [
    "> **Review:  What does `slice()` do?**\n",
    ">\n",
    "> Slices simplifies the process of accessing sequentual types in Python but also in Numpy.  Generally, slice objects are their type defined by `slice(start, stop, step)`.  In the case of Pandas multi-indexing and using strings as index keys, Pandas uses this internally to reference rows."
   ]
  },
  {
   "cell_type": "markdown",
   "metadata": {},
   "source": [
    "### Slicing by multiple primany and secondary groups"
   ]
  },
  {
   "cell_type": "code",
   "execution_count": null,
   "metadata": {},
   "outputs": [],
   "source": []
  },
  {
   "cell_type": "markdown",
   "metadata": {},
   "source": [
    "> **Also related:  Cross-section**\n",
    ">\n",
    "> Using `.xs`, you can also query subsets in the same way but with a few abstract conveniences such as:\n",
    "> - Filtering levels completely\n",
    "> - Setting values\n",
    ">\n",
    "> Read more about cross section features in Pandas in [the docs](https://pandas.pydata.org/pandas-docs/stable/user_guide/advanced.html#cross-section)."
   ]
  },
  {
   "cell_type": "markdown",
   "metadata": {},
   "source": [
    "### Selecting Multiple Values with `.query()`\n",
    "\n",
    "This is a little obtuse but it works just fine.  In a particular level such as `Type 1` (first level), we can select specific subsets with the `.query()` method like so:\n",
    "\n",
    "```python\n",
    "index_values = [list of items]\n",
    "df.query(\"`index name` in @index_values\")\n",
    "```"
   ]
  },
  {
   "cell_type": "code",
   "execution_count": 1,
   "metadata": {},
   "outputs": [],
   "source": [
    "subsets = ['Bug', 'Fire', 'Dragon']\n",
    "# code here"
   ]
  },
  {
   "cell_type": "markdown",
   "metadata": {},
   "source": [
    "## Multi-Level Columns\n",
    "\n",
    "Let's explore the next level of multi-dimensional data.  It's really common to use multiple aggregations when grouping data into multiple groups.  Even seasoned data practioners gloss over when they see these types of DataFrames in a notebook during a team meeting and complain that it's too difficult to work with.  Some might argue that using Pandas and writing code to select row and columns is more difficult than say Excel, or Tableau but that doens't mean it doesn't have time and place where it's useful.\n",
    "\n",
    "**Let's take our multi-index grouped Pokemon dataset, and create a few aggregations.**\n",
    "\n"
   ]
  },
  {
   "cell_type": "code",
   "execution_count": null,
   "metadata": {},
   "outputs": [],
   "source": []
  },
  {
   "cell_type": "markdown",
   "metadata": {},
   "source": [
    "### Question:  Based on how selecting rows by groups works, what do you think the code looks like for selecting columns by heirachy?"
   ]
  },
  {
   "cell_type": "code",
   "execution_count": 2,
   "metadata": {},
   "outputs": [],
   "source": [
    "# inspect .columns"
   ]
  },
  {
   "cell_type": "code",
   "execution_count": 3,
   "metadata": {},
   "outputs": [],
   "source": [
    "# Select columns by level and column"
   ]
  },
  {
   "cell_type": "markdown",
   "metadata": {},
   "source": [
    "### 3. Sorting\n",
    "\n",
    "Sorting works the same way by the rules of selection for multi-dimension columns or indices.\n",
    "\n",
    "> - `ascending` order is from __least__ to __greatest__ ie: __a->z__ or __0->100__.\n",
    "> - `ascending = False` is reverse ascending order wich is from __greatest__ to __least__ ie: __z->a__ or __100->0__"
   ]
  },
  {
   "cell_type": "code",
   "execution_count": 159,
   "metadata": {},
   "outputs": [],
   "source": [
    "## first example:\n",
    "# ascending = False\n",
    "## Second example:\n",
    "# ascending = [False, True]"
   ]
  },
  {
   "cell_type": "markdown",
   "metadata": {},
   "source": [
    "## Flattening Columns\n",
    "\n",
    "### `.stack()`\n",
    "\n",
    "You can move your columns to indices at any level.  By default, `.stack` moves your lowest level column structure over to a row index."
   ]
  },
  {
   "cell_type": "code",
   "execution_count": null,
   "metadata": {},
   "outputs": [],
   "source": []
  },
  {
   "cell_type": "markdown",
   "metadata": {},
   "source": [
    "## Join them using a basic comprehension\n",
    "Sometimes you have to actually write code instead of relying on Pandas functions inherently.  Let's write an example.\n"
   ]
  },
  {
   "cell_type": "code",
   "execution_count": null,
   "metadata": {},
   "outputs": [],
   "source": []
  },
  {
   "cell_type": "markdown",
   "metadata": {},
   "source": [
    "# Summary\n",
    "\n",
    "### Multi-indexing comprises both row and column index DataFrame structures.\n",
    "\n",
    "- Commonly multi-indices are the result of `.groupby` and multiple aggregation.\n",
    "- `df.index` becomes multidimensional\n",
    "- Selecting multi-index subsets by name `.loc[([1st subset name, 2nd subset name])]`\n",
    "    - Select only 2nd-level subsets by value:  `.loc[(slice(None), 2nd subset name'), [list of columns or : for all]]`\n",
    "    - Select specific level subsets by list: `.query(\"`index name` in @index_values\")`\n",
    "- Selecting multi-level columns by name: `.loc[:, [1st level name, 2nd level column])]`\n",
    "- Sorting of multi-level columns: `.sort_values([(1st level name, 2nd level column), (1st level name, 2nd level column)], ascending = [False, True])`\n",
    "- `.stack()` to move the lowest level column level to the lowest leven multi-index."
   ]
  },
  {
   "cell_type": "code",
   "execution_count": 4,
   "metadata": {},
   "outputs": [],
   "source": [
    "# poke_multi.loc[(slice(None), ('Fire', 'Ground', 'Normal')), :]\n",
    "\n",
    "# items = ['Bug', 'Water', 'Normal']\n",
    "# poke_multi.query(\"`Type 1` in @items\")\n",
    "\n",
    "# poke_multi.loc[(slice(None), ('Fire', 'Dragon')), :]\n",
    "# poke_multi = pokemon.groupby(['Type 1', 'Type 2']).agg([np.min, np.mean, np.max])\n",
    "# poke_multi.sort_values([('HP', 'amax'), ('Defense', 'amax')], ascending = [False, True])\n",
    "\n",
    "# poke_multi.loc[:, (['HP', 'Defense'], ('amin', 'amax'))]\n",
    "\n",
    "# poke_multi.index"
   ]
  }
 ],
 "metadata": {
  "kernelspec": {
   "display_name": "Python 3",
   "language": "python",
   "name": "python3"
  },
  "language_info": {
   "codemirror_mode": {
    "name": "ipython",
    "version": 3
   },
   "file_extension": ".py",
   "mimetype": "text/x-python",
   "name": "python",
   "nbconvert_exporter": "python",
   "pygments_lexer": "ipython3",
   "version": "3.7.4"
  }
 },
 "nbformat": 4,
 "nbformat_minor": 4
}
